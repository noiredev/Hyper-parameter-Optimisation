{
 "cells": [
  {
   "cell_type": "markdown",
   "metadata": {},
   "source": [
    "# Hyper-Parameter Optimisaton with the Iris dataset"
   ]
  },
  {
   "cell_type": "markdown",
   "metadata": {},
   "source": [
    "## Introduction:"
   ]
  },
  {
   "cell_type": "markdown",
   "metadata": {},
   "source": [
    "This notebook will demonstrate how to explore a dataset and then build an artifical neural network that is able to predict an outcome based on a dataset. Then furthermore, will demonstrate how tweaking hyper-parameters changes how neural networks behave and explore the difference in accuracy and performance.\n",
    "The dataset that will be used is the Iris dataset which is a very basic and is considered as a good beginner dataset for people new to machine learning."
   ]
  },
  {
   "cell_type": "markdown",
   "metadata": {},
   "source": [
    "There are mulitple ways of searching for good hyper-parameters and one way of doing so is by hand-tuning it. This is by trying out one set of parameters to see how they perform and then you manually change another set of parameters to see if they have improved the performance. This becomes more of an art rather than a science as you mainly use your intuition to see what works. However, it becomes very time-consuming and it's extremely unlikely you will find the most optimal parameters as they are usually counter-intuitive."
   ]
  },
  {
   "cell_type": "markdown",
   "metadata": {},
   "source": [
    "Another way of finding the best hyper parameters would be to find a valid range for each of the parameters and divide it into evenly spaced intervals and this is known as grid search but the problem with this is that even if you get a fairly coarse division of each parameter for example 10 but the number of possible combinations grows exponentially as you begin to add more parameters. This is known as the curse of dimensionality."
   ]
  },
  {
   "cell_type": "markdown",
   "metadata": {},
   "source": [
    "Additionally another way of finding good hyper-parameters is by random search, so unlike Grid Search all the values are randomly generated. As the amount of parameters increases for random search the chances of finding the optimal parameters becomes close to zero."
   ]
  },
  {
   "cell_type": "markdown",
   "metadata": {},
   "source": [
    "However, there is another method of finding optimal hyper-parameters and it is known as Bayesian Optimisation."
   ]
  },
  {
   "cell_type": "markdown",
   "metadata": {},
   "source": [
    "The Bayesian Optimisation method of finding hyper-parameters attempts to minimise the cost of hyper-parameter optimisation by creating a one kind of model known as a Gaussian Process. Using this it gives an estimate of how the performance may vary with changes to the hyper-parameters. So whenever the model is evaluated for a set of hyper-parameters it is clear based on the test sets what the performance with maybe a bit of variation from the noise. The bayesian optimiser is able to give a new suggestion for hyper-parameters in a region of a search space that has not been explored yet, or hyper-parameters that the Bayesian optimiser thinks will give the most improvement. Then it will repeat the process for as long as you want and then you are able to pick the best parameters."
   ]
  },
  {
   "cell_type": "markdown",
   "metadata": {},
   "source": [
    "The main algorithm for how Bayesian optimisation works is:\n",
    "\n",
    "Start with some default hyper-parameters\n",
    "\n",
    "Create a neural network using these hyper-parameters\n",
    "\n",
    "Train the neural network\n",
    "\n",
    "Evaluate the perfomance of the network\n",
    "\n",
    "Perform a classification accuracy on the validation_set\n",
    "\n",
    "Update the Gaussian model with the results\n",
    "\n",
    "Then sample the model to maximise the expected improvement\n",
    "\n",
    "Update the hyper-parameters and loop"
   ]
  },
  {
   "cell_type": "markdown",
   "metadata": {},
   "source": [
    "## Goals:"
   ]
  },
  {
   "cell_type": "markdown",
   "metadata": {},
   "source": [
    "1. Explore the dataset, pre process the data and see what we're working with.\n",
    "2. Build an artificial neural network that is able to look at the features from a dataset and to classify what species an iris flower is.\n",
    "3. To then investigate different hyper-parameter settings then log the findings to see how it changed the accuracy and performance."
   ]
  },
  {
   "cell_type": "markdown",
   "metadata": {},
   "source": [
    "### Import"
   ]
  },
  {
   "cell_type": "code",
   "execution_count": 2,
   "metadata": {},
   "outputs": [],
   "source": [
    "import tensorflow as tf\n",
    "import seaborn as sns\n",
    "import pandas as pd\n",
    "import numpy as np\n",
    "import matplotlib.pyplot as plt\n",
    "import math\n",
    "import warnings\n",
    "warnings.filterwarnings('ignore')"
   ]
  },
  {
   "cell_type": "code",
   "execution_count": 3,
   "metadata": {},
   "outputs": [],
   "source": [
    "from tensorflow.python.keras import backend as K\n",
    "from tensorflow.python.keras.models import Sequential\n",
    "from tensorflow.python.keras.layers import InputLayer, Input\n",
    "from tensorflow.python.keras.layers import Reshape, MaxPooling2D\n",
    "from tensorflow.python.keras.layers import Conv2D, Dense, Flatten\n",
    "from tensorflow.python.keras.callbacks import TensorBoard\n",
    "from tensorflow.python.keras.optimizers import Adam\n",
    "from tensorflow.python.keras.models import load_model"
   ]
  },
  {
   "cell_type": "code",
   "execution_count": 6,
   "metadata": {},
   "outputs": [],
   "source": [
    "import skopt\n",
    "from skopt import gp_minimize\n",
    "from skopt.space import Real, Integer\n",
    "from skopt.utils import use_named_args\n",
    "from skopt.plots import plot_convergence, plot_objective"
   ]
  },
  {
   "cell_type": "markdown",
   "metadata": {},
   "source": [
    "### Exploring the data"
   ]
  },
  {
   "cell_type": "code",
   "execution_count": 7,
   "metadata": {},
   "outputs": [
    {
     "data": {
      "text/html": [
       "<div>\n",
       "<style scoped>\n",
       "    .dataframe tbody tr th:only-of-type {\n",
       "        vertical-align: middle;\n",
       "    }\n",
       "\n",
       "    .dataframe tbody tr th {\n",
       "        vertical-align: top;\n",
       "    }\n",
       "\n",
       "    .dataframe thead th {\n",
       "        text-align: right;\n",
       "    }\n",
       "</style>\n",
       "<table border=\"1\" class=\"dataframe\">\n",
       "  <thead>\n",
       "    <tr style=\"text-align: right;\">\n",
       "      <th></th>\n",
       "      <th>sepal_length</th>\n",
       "      <th>sepal_width</th>\n",
       "      <th>petal_length</th>\n",
       "      <th>petal_width</th>\n",
       "      <th>species</th>\n",
       "    </tr>\n",
       "  </thead>\n",
       "  <tbody>\n",
       "    <tr>\n",
       "      <th>0</th>\n",
       "      <td>5.1</td>\n",
       "      <td>3.5</td>\n",
       "      <td>1.4</td>\n",
       "      <td>0.2</td>\n",
       "      <td>setosa</td>\n",
       "    </tr>\n",
       "    <tr>\n",
       "      <th>1</th>\n",
       "      <td>4.9</td>\n",
       "      <td>3.0</td>\n",
       "      <td>1.4</td>\n",
       "      <td>0.2</td>\n",
       "      <td>setosa</td>\n",
       "    </tr>\n",
       "    <tr>\n",
       "      <th>2</th>\n",
       "      <td>4.7</td>\n",
       "      <td>3.2</td>\n",
       "      <td>1.3</td>\n",
       "      <td>0.2</td>\n",
       "      <td>setosa</td>\n",
       "    </tr>\n",
       "    <tr>\n",
       "      <th>3</th>\n",
       "      <td>4.6</td>\n",
       "      <td>3.1</td>\n",
       "      <td>1.5</td>\n",
       "      <td>0.2</td>\n",
       "      <td>setosa</td>\n",
       "    </tr>\n",
       "    <tr>\n",
       "      <th>4</th>\n",
       "      <td>5.0</td>\n",
       "      <td>3.6</td>\n",
       "      <td>1.4</td>\n",
       "      <td>0.2</td>\n",
       "      <td>setosa</td>\n",
       "    </tr>\n",
       "  </tbody>\n",
       "</table>\n",
       "</div>"
      ],
      "text/plain": [
       "   sepal_length  sepal_width  petal_length  petal_width species\n",
       "0           5.1          3.5           1.4          0.2  setosa\n",
       "1           4.9          3.0           1.4          0.2  setosa\n",
       "2           4.7          3.2           1.3          0.2  setosa\n",
       "3           4.6          3.1           1.5          0.2  setosa\n",
       "4           5.0          3.6           1.4          0.2  setosa"
      ]
     },
     "execution_count": 7,
     "metadata": {},
     "output_type": "execute_result"
    }
   ],
   "source": [
    "# seaborn already has the iris dataset inside the library\n",
    "df = sns.load_dataset(\"iris\") \n",
    "df.head()"
   ]
  },
  {
   "cell_type": "code",
   "execution_count": 8,
   "metadata": {},
   "outputs": [
    {
     "data": {
      "text/html": [
       "<div>\n",
       "<style scoped>\n",
       "    .dataframe tbody tr th:only-of-type {\n",
       "        vertical-align: middle;\n",
       "    }\n",
       "\n",
       "    .dataframe tbody tr th {\n",
       "        vertical-align: top;\n",
       "    }\n",
       "\n",
       "    .dataframe thead th {\n",
       "        text-align: right;\n",
       "    }\n",
       "</style>\n",
       "<table border=\"1\" class=\"dataframe\">\n",
       "  <thead>\n",
       "    <tr style=\"text-align: right;\">\n",
       "      <th></th>\n",
       "      <th>sepal_length</th>\n",
       "      <th>sepal_width</th>\n",
       "      <th>petal_length</th>\n",
       "      <th>petal_width</th>\n",
       "    </tr>\n",
       "  </thead>\n",
       "  <tbody>\n",
       "    <tr>\n",
       "      <th>count</th>\n",
       "      <td>150.000000</td>\n",
       "      <td>150.000000</td>\n",
       "      <td>150.000000</td>\n",
       "      <td>150.000000</td>\n",
       "    </tr>\n",
       "    <tr>\n",
       "      <th>mean</th>\n",
       "      <td>5.843333</td>\n",
       "      <td>3.057333</td>\n",
       "      <td>3.758000</td>\n",
       "      <td>1.199333</td>\n",
       "    </tr>\n",
       "    <tr>\n",
       "      <th>std</th>\n",
       "      <td>0.828066</td>\n",
       "      <td>0.435866</td>\n",
       "      <td>1.765298</td>\n",
       "      <td>0.762238</td>\n",
       "    </tr>\n",
       "    <tr>\n",
       "      <th>min</th>\n",
       "      <td>4.300000</td>\n",
       "      <td>2.000000</td>\n",
       "      <td>1.000000</td>\n",
       "      <td>0.100000</td>\n",
       "    </tr>\n",
       "    <tr>\n",
       "      <th>25%</th>\n",
       "      <td>5.100000</td>\n",
       "      <td>2.800000</td>\n",
       "      <td>1.600000</td>\n",
       "      <td>0.300000</td>\n",
       "    </tr>\n",
       "    <tr>\n",
       "      <th>50%</th>\n",
       "      <td>5.800000</td>\n",
       "      <td>3.000000</td>\n",
       "      <td>4.350000</td>\n",
       "      <td>1.300000</td>\n",
       "    </tr>\n",
       "    <tr>\n",
       "      <th>75%</th>\n",
       "      <td>6.400000</td>\n",
       "      <td>3.300000</td>\n",
       "      <td>5.100000</td>\n",
       "      <td>1.800000</td>\n",
       "    </tr>\n",
       "    <tr>\n",
       "      <th>max</th>\n",
       "      <td>7.900000</td>\n",
       "      <td>4.400000</td>\n",
       "      <td>6.900000</td>\n",
       "      <td>2.500000</td>\n",
       "    </tr>\n",
       "  </tbody>\n",
       "</table>\n",
       "</div>"
      ],
      "text/plain": [
       "       sepal_length  sepal_width  petal_length  petal_width\n",
       "count    150.000000   150.000000    150.000000   150.000000\n",
       "mean       5.843333     3.057333      3.758000     1.199333\n",
       "std        0.828066     0.435866      1.765298     0.762238\n",
       "min        4.300000     2.000000      1.000000     0.100000\n",
       "25%        5.100000     2.800000      1.600000     0.300000\n",
       "50%        5.800000     3.000000      4.350000     1.300000\n",
       "75%        6.400000     3.300000      5.100000     1.800000\n",
       "max        7.900000     4.400000      6.900000     2.500000"
      ]
     },
     "execution_count": 8,
     "metadata": {},
     "output_type": "execute_result"
    }
   ],
   "source": [
    "df.describe()"
   ]
  },
  {
   "cell_type": "code",
   "execution_count": 9,
   "metadata": {},
   "outputs": [
    {
     "data": {
      "text/plain": [
       "0"
      ]
     },
     "execution_count": 9,
     "metadata": {},
     "output_type": "execute_result"
    }
   ],
   "source": [
    "df.isnull().sum().max()"
   ]
  },
  {
   "cell_type": "markdown",
   "metadata": {},
   "source": [
    "This means that there are no null values in the dataset which makes pre-processing the dataset a lot easier."
   ]
  },
  {
   "cell_type": "code",
   "execution_count": 10,
   "metadata": {},
   "outputs": [
    {
     "data": {
      "text/plain": [
       "setosa        50\n",
       "versicolor    50\n",
       "virginica     50\n",
       "Name: species, dtype: int64"
      ]
     },
     "execution_count": 10,
     "metadata": {},
     "output_type": "execute_result"
    }
   ],
   "source": [
    "df['species'].value_counts()"
   ]
  },
  {
   "cell_type": "code",
   "execution_count": 11,
   "metadata": {},
   "outputs": [
    {
     "data": {
      "text/plain": [
       "<seaborn.axisgrid.PairGrid at 0x217eb2ea240>"
      ]
     },
     "execution_count": 11,
     "metadata": {},
     "output_type": "execute_result"
    },
    {
     "data": {
      "image/png": "[encoded data removed]",
      "text/plain": [
       "<Figure size 950.85x864 with 20 Axes>"
      ]
     },
     "metadata": {},
     "output_type": "display_data"
    }
   ],
   "source": [
    "sns.set(style=\"ticks\")\n",
    "sns.pairplot(df.iloc[:,0:6], hue=\"species\", size=3, diag_kind=\"kde\")"
   ]
  },
  {
   "cell_type": "code",
   "execution_count": 12,
   "metadata": {},
   "outputs": [],
   "source": [
    "num_classes = 3"
   ]
  },
  {
   "cell_type": "markdown",
   "metadata": {},
   "source": [
    "### Hyper-Parameters"
   ]
  },
  {
   "cell_type": "markdown",
   "metadata": {},
   "source": [
    "Here we have the search dimensioin for the learning rate with a lower bound and upper bound."
   ]
  },
  {
   "cell_type": "code",
   "execution_count": 13,
   "metadata": {},
   "outputs": [],
   "source": [
    "dim_learning_rate = Real(low=1e-6, high=5e-1, prior='log-uniform',name='learning_rate')"
   ]
  },
  {
   "cell_type": "markdown",
   "metadata": {},
   "source": [
    "This is the search dimension for the number of dense layers in the neural network and it had a lower bound of 1 and upper bound of 5.\n",
    "This is because you need atleast 1 layer and for a basic dataset you really don't need a big network."
   ]
  },
  {
   "cell_type": "code",
   "execution_count": 14,
   "metadata": {},
   "outputs": [],
   "source": [
    "dim_num_dense_layers = Integer(low=1, high=5, name='num_dense_layers')"
   ]
  },
  {
   "cell_type": "markdown",
   "metadata": {},
   "source": [
    "The search dimension for the amount of nodes that will be in the models."
   ]
  },
  {
   "cell_type": "code",
   "execution_count": 15,
   "metadata": {},
   "outputs": [],
   "source": [
    "dim_num_dense_nodes = Integer(low=4, high=512, name='num_dense_nodes')"
   ]
  },
  {
   "cell_type": "markdown",
   "metadata": {},
   "source": [
    "Again this is the search dimension for the activation function and just keeping it simple as these should work."
   ]
  },
  {
   "cell_type": "code",
   "execution_count": 16,
   "metadata": {},
   "outputs": [],
   "source": [
    "dim_activation = Categorical(categories=['relu', 'sigmoid'],name='activation')"
   ]
  },
  {
   "cell_type": "markdown",
   "metadata": {},
   "source": [
    "Putting the dimensions into a list so that it's easier to parse into the fitness function later."
   ]
  },
  {
   "cell_type": "code",
   "execution_count": 17,
   "metadata": {},
   "outputs": [],
   "source": [
    "dimensions = [dim_learning_rate,\n",
    "              dim_num_dense_layers,\n",
    "              dim_num_dense_nodes,\n",
    "              dim_activation]"
   ]
  },
  {
   "cell_type": "markdown",
   "metadata": {},
   "source": [
    "We need to make sure to pick parameters that are good but not that good"
   ]
  },
  {
   "cell_type": "code",
   "execution_count": 18,
   "metadata": {},
   "outputs": [],
   "source": [
    "default_parameters = [4e-5, 1, 16, 'relu']"
   ]
  },
  {
   "cell_type": "markdown",
   "metadata": {},
   "source": [
    "### Helper Functions"
   ]
  },
  {
   "cell_type": "markdown",
   "metadata": {},
   "source": [
    "A helper function to help log the training progress for all the parameter combinations so that they can be viewed and compared in TensorBoard."
   ]
  },
  {
   "cell_type": "code",
   "execution_count": 19,
   "metadata": {},
   "outputs": [],
   "source": [
    "def log_dir_name(learning_rate, num_dense_layers,\n",
    "                 num_dense_nodes, activation):\n",
    "\n",
    "    # The dir-name for the TensorBoard log-dir.\n",
    "    s = \"./logs/lr_{0:.0e}_layers_{1}_nodes_{2}_{3}/\"\n",
    "\n",
    "    # Insert all the hyper-parameters in the dir-name.\n",
    "    log_dir = s.format(learning_rate, num_dense_layers, num_dense_nodes, activation)\n",
    "\n",
    "    return log_dir"
   ]
  },
  {
   "cell_type": "markdown",
   "metadata": {},
   "source": [
    "Helper functions for predicting and testing to refrain from getting too messy."
   ]
  },
  {
   "cell_type": "code",
   "execution_count": 20,
   "metadata": {},
   "outputs": [],
   "source": [
    "def y_predict(model):\n",
    "    return model.predict(X_test)\n",
    "\n",
    "def y_test_class(y_test):\n",
    "    return  np.argmax(y_test,axis=1)\n",
    "\n",
    "def y_pred_class(y_pred):\n",
    "    np.argmax(y_pred,axis=1)"
   ]
  },
  {
   "cell_type": "markdown",
   "metadata": {},
   "source": [
    "## Building the model"
   ]
  },
  {
   "cell_type": "markdown",
   "metadata": {},
   "source": [
    "So now X contains all flower measurement values, y contains all species categories.\n",
    "We must convert these text values into a machine usable format. To do that we use the fit_transform function from sklearn label encoder library to encode the species values 0 through 2 then we'll then one-hot encode these values using panda's get dummies function so now we have X equal to all the flower measuremenet values and Y is the one-hot encoded values for the species."
   ]
  },
  {
   "cell_type": "code",
   "execution_count": 21,
   "metadata": {},
   "outputs": [],
   "source": [
    "# spltting the data into training and test\n",
    "X = df.iloc[:,0:4].values\n",
    "y = df.iloc[:,4].values\n",
    "# iloc allows to read specific range of values from specific locations in the dataset\n",
    "\n",
    "from sklearn.preprocessing import LabelEncoder\n",
    "encoder = LabelEncoder()\n",
    "y1 = encoder.fit_transform(y)\n",
    "Y = pd.get_dummies(y1).values\n",
    "\n",
    "from sklearn.model_selection import train_test_split\n",
    "X_train,X_test, y_train,y_test = train_test_split(X,Y,test_size=0.2,random_state=0)"
   ]
  },
  {
   "cell_type": "markdown",
   "metadata": {},
   "source": [
    "We create a variable for the validation data to see which choice of hyper-paramaters works best on unseen data."
   ]
  },
  {
   "cell_type": "code",
   "execution_count": 22,
   "metadata": {},
   "outputs": [],
   "source": [
    "validation_data = (X_test, y_test)"
   ]
  },
  {
   "cell_type": "markdown",
   "metadata": {},
   "source": [
    "The main function called when creating a model for a neural network."
   ]
  },
  {
   "cell_type": "code",
   "execution_count": 23,
   "metadata": {},
   "outputs": [],
   "source": [
    "def create_model(learning_rate, num_dense_layers, num_dense_nodes, activation):\n",
    "    \n",
    "    model = Sequential()\n",
    "\n",
    "    model.add(InputLayer(input_shape=(4,)))\n",
    "    model.add(Flatten())\n",
    "    \n",
    "    for i in range(num_dense_layers):\n",
    "        # name of the layer. \n",
    "        name = 'layer_dense_{0}'.format(i+1)\n",
    "        \n",
    "        # Adding the dense layer to the model which has two hyper-parameters that can be optimised.\n",
    "        model.add(Dense(num_dense_nodes,activation=activation,name=name))\n",
    "    # num of classes will always be 3 with the iris dataset\n",
    "    model.add(Dense(num_classes, activation='softmax'))\n",
    "\n",
    "    # since we're using a classifier with more than two classes we want to use categorical crossentropy loss function\n",
    "    optimiser = Adam(lr=learning_rate)\n",
    "    \n",
    "    model.compile(optimizer=optimiser,loss='categorical_crossentropy',metrics=['accuracy']) \n",
    "\n",
    "    return model"
   ]
  },
  {
   "cell_type": "markdown",
   "metadata": {},
   "source": [
    "Variable to store the best model"
   ]
  },
  {
   "cell_type": "code",
   "execution_count": 24,
   "metadata": {},
   "outputs": [],
   "source": [
    "path_best_model = 'best_model.h5'"
   ]
  },
  {
   "cell_type": "markdown",
   "metadata": {},
   "source": [
    "We have to set the best accuracy variable outside the fitness function"
   ]
  },
  {
   "cell_type": "code",
   "execution_count": 25,
   "metadata": {},
   "outputs": [],
   "source": [
    "best_accuracy = 0.0"
   ]
  },
  {
   "cell_type": "markdown",
   "metadata": {},
   "source": [
    "The fitness function is the main function that creates and trains a neural network with the given hyper-parameters and then is able to evaluates its performance. The function returns the accuracy which is a negative classifcation because skopt performs minimisation instead of maximisation."
   ]
  },
  {
   "cell_type": "markdown",
   "metadata": {},
   "source": [
    "The hyper-parameters are:\n",
    "\n",
    "learning_rate:     Learning-rate for the optimizer.\n",
    "\n",
    "num_dense_layers:  Number of dense layers.\n",
    "\n",
    "num_dense_nodes:   Number of nodes in each dense layer.\n",
    "\n",
    "activation:        Activation function for all layers."
   ]
  },
  {
   "cell_type": "code",
   "execution_count": 26,
   "metadata": {},
   "outputs": [],
   "source": [
    "# This is the style skopt uses for singles lists.\n",
    "@use_named_args(dimensions=dimensions)\n",
    "def fitness(learning_rate, num_dense_layers,num_dense_nodes, activation):\n",
    "\n",
    "    print('learning rate: {0:.1e}'.format(learning_rate))\n",
    "    print('num_dense_layers:', num_dense_layers)\n",
    "    print('num_dense_nodes:', num_dense_nodes)\n",
    "    print('activation:', activation)\n",
    "    print()\n",
    "    \n",
    "    # Create the neural network with these hyper-parameters.\n",
    "    model = create_model(learning_rate=learning_rate,num_dense_layers=num_dense_layers,num_dense_nodes=num_dense_nodes,activation=activation)\n",
    "    \n",
    "    # for the log files\n",
    "    log_dir = log_dir_name(learning_rate, num_dense_layers,num_dense_nodes, activation)\n",
    "    \n",
    "    # Create a callback-function for Keras which will be run after each epoch has ended during training.\n",
    "    callback_log = TensorBoard(log_dir=log_dir, histogram_freq=0, batch_size=32, write_graph=True, write_grads=False, write_images=False)\n",
    "    \n",
    "    # using the fit function from keras to train the model\n",
    "    history = model.fit(x=X_train, y=y_train,epochs=3,batch_size=128, validation_data=validation_data, callbacks=[callback_log])\n",
    "    \n",
    "    # get the classification accuracy on the validation-set after the last training-epoch.\n",
    "    accuracy = history.history['val_acc'][-1]\n",
    "\n",
    "    # Print the classification accuracy.\n",
    "    print()\n",
    "    print(\"Accuracy: {0:.2%}\".format(accuracy))\n",
    "    print()\n",
    "\n",
    "    # Save the model if it improves on the best-found performance.\n",
    "    # We use the global keyword so we update the variable outside of this function.\n",
    "    global best_accuracy\n",
    "    # I use a global best model here because I found issues loading models in keras\n",
    "    global best_model\n",
    " \n",
    "    if accuracy > best_accuracy:\n",
    "        # Save the new model\n",
    "        model.save(path_best_model)\n",
    "        best_model = model\n",
    "        best_accuracy = accuracy\n",
    "\n",
    "    del model\n",
    "    \n",
    "    # have to clear the keras session otherwise it will not add models to graphs correctly\n",
    "    K.clear_session()\n",
    "    \n",
    "    # To find the minimisation we need to return a negative classification\n",
    "    return -accuracy"
   ]
  },
  {
   "cell_type": "markdown",
   "metadata": {},
   "source": [
    "### Test Run"
   ]
  },
  {
   "cell_type": "code",
   "execution_count": 27,
   "metadata": {},
   "outputs": [
    {
     "name": "stdout",
     "output_type": "stream",
     "text": [
      "learning rate: 4.0e-05\n",
      "num_dense_layers: 1\n",
      "num_dense_nodes: 16\n",
      "activation: relu\n",
      "\n",
      "Train on 120 samples, validate on 30 samples\n",
      "Epoch 1/3\n",
      "120/120 [==============================] - 0s 4ms/step - loss: 2.6087 - acc: 0.3250 - val_loss: 2.5395 - val_acc: 0.3667\n",
      "Epoch 2/3\n",
      "120/120 [==============================] - 0s 50us/step - loss: 2.6073 - acc: 0.3250 - val_loss: 2.5380 - val_acc: 0.3667\n",
      "Epoch 3/3\n",
      "120/120 [==============================] - 0s 50us/step - loss: 2.6056 - acc: 0.3250 - val_loss: 2.5364 - val_acc: 0.3667\n",
      "\n",
      "Accuracy: 36.67%\n",
      "\n"
     ]
    },
    {
     "data": {
      "text/plain": [
       "-0.36666667461395264"
      ]
     },
     "execution_count": 27,
     "metadata": {},
     "output_type": "execute_result"
    }
   ],
   "source": [
    "fitness(x=default_parameters)"
   ]
  },
  {
   "cell_type": "markdown",
   "metadata": {},
   "source": [
    "In keras you train a model using the fit command"
   ]
  },
  {
   "cell_type": "markdown",
   "metadata": {},
   "source": [
    "### Hyper-Parameter Optimisation"
   ]
  },
  {
   "cell_type": "markdown",
   "metadata": {},
   "source": [
    "Now to finally run the model with hyper-parameter optimisation using Bayesian optimisaton from the scikit-optimize package.\n",
    "This first calls the fitness function with the default parameters set earlier as a starting point to speed up the process.\n",
    "\n",
    "There are also other parameters you can play around with like the number of calls. However, running it too many times becomes very costly quickly especially with big datasets you may have to train models for days.\n",
    "\n",
    "Another thing to optimise are the amount of epochs for each model. Again overdoing it will begin to become costly as the the time to train models will increase.\n",
    "\n",
    "There are also other alternatives to Bayesian optimisers that I could've tried like Random Forests."
   ]
  },
  {
   "cell_type": "code",
   "execution_count": 40,
   "metadata": {},
   "outputs": [
    {
     "name": "stdout",
     "output_type": "stream",
     "text": [
      "learning rate: 4.0e-05\n",
      "num_dense_layers: 1\n",
      "num_dense_nodes: 16\n",
      "activation: relu\n",
      "\n",
      "Train on 120 samples, validate on 30 samples\n",
      "Epoch 1/3\n",
      "120/120 [==============================] - 0s 1ms/step - loss: 2.2568 - acc: 0.3083 - val_loss: 1.6427 - val_acc: 0.4333\n",
      "Epoch 2/3\n",
      "120/120 [==============================] - 0s 25us/step - loss: 2.2562 - acc: 0.3083 - val_loss: 1.6424 - val_acc: 0.4333\n",
      "Epoch 3/3\n",
      "120/120 [==============================] - 0s 42us/step - loss: 2.2555 - acc: 0.3083 - val_loss: 1.6421 - val_acc: 0.4333\n",
      "\n",
      "Accuracy: 43.33%\n",
      "\n",
      "learning rate: 1.3e-02\n",
      "num_dense_layers: 3\n",
      "num_dense_nodes: 107\n",
      "activation: relu\n",
      "\n",
      "Train on 120 samples, validate on 30 samples\n",
      "Epoch 1/3\n",
      "120/120 [==============================] - 0s 1ms/step - loss: 1.0689 - acc: 0.3250 - val_loss: 1.6084 - val_acc: 0.2000\n",
      "Epoch 2/3\n",
      "120/120 [==============================] - 0s 33us/step - loss: 1.2831 - acc: 0.3667 - val_loss: 0.6932 - val_acc: 0.8000\n",
      "Epoch 3/3\n",
      "120/120 [==============================] - 0s 29us/step - loss: 0.9228 - acc: 0.6333 - val_loss: 1.2763 - val_acc: 0.3667\n",
      "\n",
      "Accuracy: 36.67%\n",
      "\n",
      "learning rate: 1.1e-01\n",
      "num_dense_layers: 2\n",
      "num_dense_nodes: 356\n",
      "activation: sigmoid\n",
      "\n",
      "Train on 120 samples, validate on 30 samples\n",
      "Epoch 1/3\n",
      "120/120 [==============================] - 0s 1ms/step - loss: 1.2579 - acc: 0.3083 - val_loss: 8.1858 - val_acc: 0.3667\n",
      "Epoch 2/3\n",
      "120/120 [==============================] - 0s 25us/step - loss: 7.1703 - acc: 0.3250 - val_loss: 12.7396 - val_acc: 0.2000\n",
      "Epoch 3/3\n",
      "120/120 [==============================] - 0s 42us/step - loss: 10.0708 - acc: 0.3667 - val_loss: 12.0509 - val_acc: 0.2000\n",
      "\n",
      "Accuracy: 20.00%\n",
      "\n",
      "learning rate: 4.9e-02\n",
      "num_dense_layers: 1\n",
      "num_dense_nodes: 381\n",
      "activation: sigmoid\n",
      "\n",
      "Train on 120 samples, validate on 30 samples\n",
      "Epoch 1/3\n",
      "120/120 [==============================] - 0s 844us/step - loss: 1.6828 - acc: 0.3083 - val_loss: 7.2004 - val_acc: 0.2000\n",
      "Epoch 2/3\n",
      "120/120 [==============================] - 0s 25us/step - loss: 5.2329 - acc: 0.3667 - val_loss: 7.4265 - val_acc: 0.3667\n",
      "Epoch 3/3\n",
      "120/120 [==============================] - 0s 25us/step - loss: 5.7539 - acc: 0.3250 - val_loss: 7.7276 - val_acc: 0.2000\n",
      "\n",
      "Accuracy: 20.00%\n",
      "\n",
      "learning rate: 3.2e-03\n",
      "num_dense_layers: 4\n",
      "num_dense_nodes: 295\n",
      "activation: relu\n",
      "\n",
      "Train on 120 samples, validate on 30 samples\n",
      "Epoch 1/3\n",
      "120/120 [==============================] - 0s 2ms/step - loss: 1.1199 - acc: 0.3667 - val_loss: 1.1089 - val_acc: 0.2000\n",
      "Epoch 2/3\n",
      "120/120 [==============================] - 0s 42us/step - loss: 1.0037 - acc: 0.3667 - val_loss: 0.8308 - val_acc: 0.6000\n",
      "Epoch 3/3\n",
      "120/120 [==============================] - 0s 33us/step - loss: 0.8772 - acc: 0.4500 - val_loss: 0.8625 - val_acc: 0.5667\n",
      "\n",
      "Accuracy: 56.67%\n",
      "\n",
      "learning rate: 2.2e-02\n",
      "num_dense_layers: 4\n",
      "num_dense_nodes: 20\n",
      "activation: relu\n",
      "\n",
      "Train on 120 samples, validate on 30 samples\n",
      "Epoch 1/3\n",
      "120/120 [==============================] - 0s 1ms/step - loss: 1.2663 - acc: 0.3250 - val_loss: 1.0735 - val_acc: 0.1333\n",
      "Epoch 2/3\n",
      "120/120 [==============================] - 0s 25us/step - loss: 1.0807 - acc: 0.1917 - val_loss: 1.1304 - val_acc: 0.2000\n",
      "Epoch 3/3\n",
      "120/120 [==============================] - 0s 42us/step - loss: 1.0583 - acc: 0.3667 - val_loss: 1.0919 - val_acc: 0.4333\n",
      "\n",
      "Accuracy: 43.33%\n",
      "\n",
      "learning rate: 1.3e-01\n",
      "num_dense_layers: 3\n",
      "num_dense_nodes: 277\n",
      "activation: sigmoid\n",
      "\n",
      "Train on 120 samples, validate on 30 samples\n",
      "Epoch 1/3\n",
      "120/120 [==============================] - 0s 1ms/step - loss: 1.2823 - acc: 0.3083 - val_loss: 7.8633 - val_acc: 0.2000\n",
      "Epoch 2/3\n",
      "120/120 [==============================] - 0s 33us/step - loss: 5.7679 - acc: 0.3667 - val_loss: 10.0404 - val_acc: 0.3667\n",
      "Epoch 3/3\n",
      "120/120 [==============================] - 0s 25us/step - loss: 10.5723 - acc: 0.3250 - val_loss: 8.8296 - val_acc: 0.3667\n",
      "\n",
      "Accuracy: 36.67%\n",
      "\n",
      "learning rate: 2.2e-05\n",
      "num_dense_layers: 3\n",
      "num_dense_nodes: 65\n",
      "activation: relu\n",
      "\n",
      "Train on 120 samples, validate on 30 samples\n",
      "Epoch 1/3\n",
      "120/120 [==============================] - 0s 1ms/step - loss: 1.1027 - acc: 0.3083 - val_loss: 1.0915 - val_acc: 0.4333\n",
      "Epoch 2/3\n",
      "120/120 [==============================] - 0s 42us/step - loss: 1.1016 - acc: 0.3083 - val_loss: 1.0912 - val_acc: 0.4333\n",
      "Epoch 3/3\n",
      "120/120 [==============================] - 0s 25us/step - loss: 1.1005 - acc: 0.3083 - val_loss: 1.0908 - val_acc: 0.4333\n",
      "\n",
      "Accuracy: 43.33%\n",
      "\n",
      "learning rate: 4.0e-06\n",
      "num_dense_layers: 4\n",
      "num_dense_nodes: 284\n",
      "activation: sigmoid\n",
      "\n",
      "Train on 120 samples, validate on 30 samples\n",
      "Epoch 1/3\n",
      "120/120 [==============================] - 0s 2ms/step - loss: 1.2018 - acc: 0.3250 - val_loss: 1.0903 - val_acc: 0.3667\n",
      "Epoch 2/3\n",
      "120/120 [==============================] - 0s 33us/step - loss: 1.2010 - acc: 0.3250 - val_loss: 1.0900 - val_acc: 0.3667\n",
      "Epoch 3/3\n",
      "120/120 [==============================] - 0s 42us/step - loss: 1.2001 - acc: 0.3250 - val_loss: 1.0897 - val_acc: 0.3667\n",
      "\n",
      "Accuracy: 36.67%\n",
      "\n",
      "learning rate: 1.6e-06\n",
      "num_dense_layers: 1\n",
      "num_dense_nodes: 6\n",
      "activation: sigmoid\n",
      "\n",
      "Train on 120 samples, validate on 30 samples\n",
      "Epoch 1/3\n",
      "120/120 [==============================] - 0s 852us/step - loss: 1.1231 - acc: 0.3250 - val_loss: 1.1092 - val_acc: 0.3667\n",
      "Epoch 2/3\n",
      "120/120 [==============================] - 0s 25us/step - loss: 1.1231 - acc: 0.3250 - val_loss: 1.1092 - val_acc: 0.3667\n",
      "Epoch 3/3\n",
      "120/120 [==============================] - 0s 25us/step - loss: 1.1231 - acc: 0.3250 - val_loss: 1.1092 - val_acc: 0.3667\n",
      "\n",
      "Accuracy: 36.67%\n",
      "\n",
      "learning rate: 4.6e-05\n",
      "num_dense_layers: 2\n",
      "num_dense_nodes: 216\n",
      "activation: sigmoid\n",
      "\n",
      "Train on 120 samples, validate on 30 samples\n",
      "Epoch 1/3\n",
      "120/120 [==============================] - 0s 1ms/step - loss: 1.1750 - acc: 0.3667 - val_loss: 1.3146 - val_acc: 0.2000\n",
      "Epoch 2/3\n",
      "120/120 [==============================] - 0s 33us/step - loss: 1.1700 - acc: 0.3667 - val_loss: 1.3040 - val_acc: 0.2000\n",
      "Epoch 3/3\n",
      "120/120 [==============================] - 0s 33us/step - loss: 1.1645 - acc: 0.3667 - val_loss: 1.2931 - val_acc: 0.2000\n",
      "\n",
      "Accuracy: 20.00%\n",
      "\n",
      "learning rate: 1.0e-05\n",
      "num_dense_layers: 4\n",
      "num_dense_nodes: 399\n",
      "activation: relu\n",
      "\n",
      "Train on 120 samples, validate on 30 samples\n",
      "Epoch 1/3\n",
      "120/120 [==============================] - 0s 1ms/step - loss: 1.1168 - acc: 0.3250 - val_loss: 1.1629 - val_acc: 0.3667\n",
      "Epoch 2/3\n",
      "120/120 [==============================] - 0s 33us/step - loss: 1.1134 - acc: 0.3250 - val_loss: 1.1600 - val_acc: 0.3667\n",
      "Epoch 3/3\n",
      "120/120 [==============================] - 0s 33us/step - loss: 1.1096 - acc: 0.3250 - val_loss: 1.1571 - val_acc: 0.3667\n",
      "\n",
      "Accuracy: 36.67%\n",
      "\n",
      "learning rate: 5.8e-06\n",
      "num_dense_layers: 1\n",
      "num_dense_nodes: 263\n",
      "activation: relu\n",
      "\n",
      "Train on 120 samples, validate on 30 samples\n",
      "Epoch 1/3\n",
      "120/120 [==============================] - 0s 886us/step - loss: 1.0935 - acc: 0.3667 - val_loss: 1.2040 - val_acc: 0.2000\n",
      "Epoch 2/3\n",
      "120/120 [==============================] - 0s 25us/step - loss: 1.0933 - acc: 0.3667 - val_loss: 1.2036 - val_acc: 0.2000\n",
      "Epoch 3/3\n",
      "120/120 [==============================] - 0s 25us/step - loss: 1.0931 - acc: 0.3667 - val_loss: 1.2032 - val_acc: 0.2000\n",
      "\n",
      "Accuracy: 20.00%\n",
      "\n",
      "learning rate: 2.5e-02\n",
      "num_dense_layers: 5\n",
      "num_dense_nodes: 282\n",
      "activation: relu\n",
      "\n",
      "Train on 120 samples, validate on 30 samples\n",
      "Epoch 1/3\n",
      "120/120 [==============================] - 0s 2ms/step - loss: 1.0769 - acc: 0.3667 - val_loss: 12.7493 - val_acc: 0.2000\n",
      "Epoch 2/3\n",
      "120/120 [==============================] - 0s 42us/step - loss: 10.0867 - acc: 0.3667 - val_loss: 10.2081 - val_acc: 0.3667\n",
      "Epoch 3/3\n",
      "120/120 [==============================] - 0s 33us/step - loss: 10.8797 - acc: 0.3250 - val_loss: 10.2081 - val_acc: 0.3667\n",
      "\n",
      "Accuracy: 36.67%\n",
      "\n",
      "learning rate: 3.6e-02\n",
      "num_dense_layers: 4\n",
      "num_dense_nodes: 284\n",
      "activation: relu\n",
      "\n",
      "Train on 120 samples, validate on 30 samples\n",
      "Epoch 1/3\n",
      "120/120 [==============================] - 0s 1ms/step - loss: 1.1175 - acc: 0.3250 - val_loss: 12.8945 - val_acc: 0.2000\n",
      "Epoch 2/3\n",
      "120/120 [==============================] - 0s 33us/step - loss: 10.2081 - acc: 0.3667 - val_loss: 12.8945 - val_acc: 0.2000\n",
      "Epoch 3/3\n",
      "120/120 [==============================] - 0s 33us/step - loss: 10.2081 - acc: 0.3667 - val_loss: 12.8945 - val_acc: 0.2000\n",
      "\n",
      "Accuracy: 20.00%\n",
      "\n",
      "learning rate: 3.4e-03\n",
      "num_dense_layers: 5\n",
      "num_dense_nodes: 4\n",
      "activation: sigmoid\n",
      "\n"
     ]
    },
    {
     "name": "stdout",
     "output_type": "stream",
     "text": [
      "Train on 120 samples, validate on 30 samples\n",
      "Epoch 1/3\n",
      "120/120 [==============================] - 0s 2ms/step - loss: 1.1054 - acc: 0.3083 - val_loss: 1.1040 - val_acc: 0.4333\n",
      "Epoch 2/3\n",
      "120/120 [==============================] - 0s 42us/step - loss: 1.1042 - acc: 0.3083 - val_loss: 1.1055 - val_acc: 0.4333\n",
      "Epoch 3/3\n",
      "120/120 [==============================] - 0s 33us/step - loss: 1.1030 - acc: 0.3083 - val_loss: 1.1071 - val_acc: 0.4333\n",
      "\n",
      "Accuracy: 43.33%\n",
      "\n",
      "learning rate: 1.9e-05\n",
      "num_dense_layers: 5\n",
      "num_dense_nodes: 512\n",
      "activation: sigmoid\n",
      "\n",
      "Train on 120 samples, validate on 30 samples\n",
      "Epoch 1/3\n",
      "120/120 [==============================] - 0s 2ms/step - loss: 1.3094 - acc: 0.3083 - val_loss: 1.0951 - val_acc: 0.4333\n",
      "Epoch 2/3\n",
      "120/120 [==============================] - 0s 33us/step - loss: 1.2974 - acc: 0.3083 - val_loss: 1.0889 - val_acc: 0.4333\n",
      "Epoch 3/3\n",
      "120/120 [==============================] - 0s 33us/step - loss: 1.2840 - acc: 0.3083 - val_loss: 1.0828 - val_acc: 0.4333\n",
      "\n",
      "Accuracy: 43.33%\n",
      "\n",
      "learning rate: 5.4e-06\n",
      "num_dense_layers: 5\n",
      "num_dense_nodes: 4\n",
      "activation: relu\n",
      "\n",
      "Train on 120 samples, validate on 30 samples\n",
      "Epoch 1/3\n",
      "120/120 [==============================] - 0s 2ms/step - loss: 1.4084 - acc: 0.2500 - val_loss: 1.2444 - val_acc: 0.2000\n",
      "Epoch 2/3\n",
      "120/120 [==============================] - 0s 33us/step - loss: 1.4083 - acc: 0.2417 - val_loss: 1.2444 - val_acc: 0.2000\n",
      "Epoch 3/3\n",
      "120/120 [==============================] - 0s 33us/step - loss: 1.4082 - acc: 0.2417 - val_loss: 1.2444 - val_acc: 0.2000\n",
      "\n",
      "Accuracy: 20.00%\n",
      "\n",
      "learning rate: 3.4e-03\n",
      "num_dense_layers: 3\n",
      "num_dense_nodes: 372\n",
      "activation: relu\n",
      "\n",
      "Train on 120 samples, validate on 30 samples\n",
      "Epoch 1/3\n",
      "120/120 [==============================] - 0s 1ms/step - loss: 1.1941 - acc: 0.3083 - val_loss: 1.8403 - val_acc: 0.2000\n",
      "Epoch 2/3\n",
      "120/120 [==============================] - 0s 25us/step - loss: 1.3820 - acc: 0.3667 - val_loss: 1.1344 - val_acc: 0.3667\n",
      "Epoch 3/3\n",
      "120/120 [==============================] - 0s 33us/step - loss: 1.0671 - acc: 0.3250 - val_loss: 0.8101 - val_acc: 0.7667\n",
      "\n",
      "Accuracy: 76.67%\n",
      "\n",
      "learning rate: 4.3e-03\n",
      "num_dense_layers: 1\n",
      "num_dense_nodes: 436\n",
      "activation: relu\n",
      "\n",
      "Train on 120 samples, validate on 30 samples\n",
      "Epoch 1/3\n",
      "120/120 [==============================] - 0s 861us/step - loss: 1.2452 - acc: 0.1917 - val_loss: 1.1752 - val_acc: 0.2000\n",
      "Epoch 2/3\n",
      "120/120 [==============================] - 0s 25us/step - loss: 1.0553 - acc: 0.3667 - val_loss: 1.2002 - val_acc: 0.2000\n",
      "Epoch 3/3\n",
      "120/120 [==============================] - 0s 25us/step - loss: 1.0128 - acc: 0.3667 - val_loss: 1.0232 - val_acc: 0.2667\n",
      "\n",
      "Accuracy: 26.67%\n",
      "\n",
      "learning rate: 3.3e-03\n",
      "num_dense_layers: 3\n",
      "num_dense_nodes: 482\n",
      "activation: relu\n",
      "\n",
      "Train on 120 samples, validate on 30 samples\n",
      "Epoch 1/3\n",
      "120/120 [==============================] - 0s 1ms/step - loss: 1.0688 - acc: 0.3083 - val_loss: 1.9813 - val_acc: 0.2000\n",
      "Epoch 2/3\n",
      "120/120 [==============================] - 0s 33us/step - loss: 1.4565 - acc: 0.3667 - val_loss: 0.9187 - val_acc: 0.3667\n",
      "Epoch 3/3\n",
      "120/120 [==============================] - 0s 33us/step - loss: 1.1125 - acc: 0.3250 - val_loss: 0.6323 - val_acc: 0.8000\n",
      "\n",
      "Accuracy: 80.00%\n",
      "\n",
      "learning rate: 3.2e-03\n",
      "num_dense_layers: 3\n",
      "num_dense_nodes: 446\n",
      "activation: relu\n",
      "\n",
      "Train on 120 samples, validate on 30 samples\n",
      "Epoch 1/3\n",
      "120/120 [==============================] - 0s 1ms/step - loss: 1.1373 - acc: 0.2750 - val_loss: 2.0315 - val_acc: 0.2000\n",
      "Epoch 2/3\n",
      "120/120 [==============================] - 0s 33us/step - loss: 1.5741 - acc: 0.3667 - val_loss: 0.8038 - val_acc: 0.8000\n",
      "Epoch 3/3\n",
      "120/120 [==============================] - 0s 42us/step - loss: 0.9080 - acc: 0.6250 - val_loss: 0.9205 - val_acc: 0.3667\n",
      "\n",
      "Accuracy: 36.67%\n",
      "\n",
      "learning rate: 3.6e-03\n",
      "num_dense_layers: 5\n",
      "num_dense_nodes: 358\n",
      "activation: relu\n",
      "\n",
      "Train on 120 samples, validate on 30 samples\n",
      "Epoch 1/3\n",
      "120/120 [==============================] - 0s 2ms/step - loss: 1.0888 - acc: 0.3667 - val_loss: 1.2691 - val_acc: 0.2000\n",
      "Epoch 2/3\n",
      "120/120 [==============================] - 0s 33us/step - loss: 1.0442 - acc: 0.3667 - val_loss: 1.1366 - val_acc: 0.3667\n",
      "Epoch 3/3\n",
      "120/120 [==============================] - 0s 50us/step - loss: 1.5194 - acc: 0.3250 - val_loss: 0.9164 - val_acc: 0.4333\n",
      "\n",
      "Accuracy: 43.33%\n",
      "\n",
      "learning rate: 2.7e-03\n",
      "num_dense_layers: 4\n",
      "num_dense_nodes: 179\n",
      "activation: relu\n",
      "\n",
      "Train on 120 samples, validate on 30 samples\n",
      "Epoch 1/3\n",
      "120/120 [==============================] - 0s 1ms/step - loss: 1.1226 - acc: 0.3667 - val_loss: 1.1362 - val_acc: 0.2000\n",
      "Epoch 2/3\n",
      "120/120 [==============================] - 0s 25us/step - loss: 1.0036 - acc: 0.3667 - val_loss: 0.9159 - val_acc: 0.7000\n",
      "Epoch 3/3\n",
      "120/120 [==============================] - 0s 33us/step - loss: 0.8939 - acc: 0.8500 - val_loss: 0.8460 - val_acc: 0.5667\n",
      "\n",
      "Accuracy: 56.67%\n",
      "\n",
      "learning rate: 1.2e-03\n",
      "num_dense_layers: 3\n",
      "num_dense_nodes: 251\n",
      "activation: relu\n",
      "\n",
      "Train on 120 samples, validate on 30 samples\n",
      "Epoch 1/3\n",
      "120/120 [==============================] - 0s 1ms/step - loss: 1.1475 - acc: 0.3250 - val_loss: 1.0711 - val_acc: 0.2000\n",
      "Epoch 2/3\n",
      "120/120 [==============================] - 0s 29us/step - loss: 0.9915 - acc: 0.3667 - val_loss: 1.0162 - val_acc: 0.2000\n",
      "Epoch 3/3\n",
      "120/120 [==============================] - 0s 25us/step - loss: 0.9264 - acc: 0.3667 - val_loss: 0.9120 - val_acc: 0.4000\n",
      "\n",
      "Accuracy: 40.00%\n",
      "\n",
      "learning rate: 5.5e-03\n",
      "num_dense_layers: 3\n",
      "num_dense_nodes: 392\n",
      "activation: sigmoid\n",
      "\n",
      "Train on 120 samples, validate on 30 samples\n",
      "Epoch 1/3\n",
      "120/120 [==============================] - 0s 1ms/step - loss: 1.0947 - acc: 0.3667 - val_loss: 2.3907 - val_acc: 0.4333\n",
      "Epoch 2/3\n",
      "120/120 [==============================] - 0s 25us/step - loss: 2.2269 - acc: 0.3083 - val_loss: 1.6447 - val_acc: 0.3667\n",
      "Epoch 3/3\n",
      "120/120 [==============================] - 0s 33us/step - loss: 1.5154 - acc: 0.3250 - val_loss: 1.6600 - val_acc: 0.2000\n",
      "\n",
      "Accuracy: 20.00%\n",
      "\n",
      "learning rate: 2.7e-03\n",
      "num_dense_layers: 1\n",
      "num_dense_nodes: 96\n",
      "activation: sigmoid\n",
      "\n",
      "Train on 120 samples, validate on 30 samples\n",
      "Epoch 1/3\n",
      "120/120 [==============================] - 0s 1ms/step - loss: 1.4344 - acc: 0.3083 - val_loss: 1.0747 - val_acc: 0.4333\n",
      "Epoch 2/3\n",
      "120/120 [==============================] - 0s 33us/step - loss: 1.3409 - acc: 0.3083 - val_loss: 1.0304 - val_acc: 0.4333\n",
      "Epoch 3/3\n",
      "120/120 [==============================] - 0s 29us/step - loss: 1.2475 - acc: 0.3083 - val_loss: 0.9978 - val_acc: 0.4333\n",
      "\n",
      "Accuracy: 43.33%\n",
      "\n",
      "learning rate: 2.0e-03\n",
      "num_dense_layers: 4\n",
      "num_dense_nodes: 351\n",
      "activation: relu\n",
      "\n",
      "Train on 120 samples, validate on 30 samples\n",
      "Epoch 1/3\n",
      "120/120 [==============================] - 0s 1ms/step - loss: 1.0710 - acc: 0.3750 - val_loss: 1.1111 - val_acc: 0.2667\n",
      "Epoch 2/3\n",
      "120/120 [==============================] - 0s 33us/step - loss: 0.9447 - acc: 0.3833 - val_loss: 0.7621 - val_acc: 0.8000\n",
      "Epoch 3/3\n",
      "120/120 [==============================] - 0s 33us/step - loss: 0.7901 - acc: 0.6417 - val_loss: 0.6338 - val_acc: 0.7667\n",
      "\n",
      "Accuracy: 76.67%\n",
      "\n",
      "learning rate: 2.0e-03\n",
      "num_dense_layers: 2\n",
      "num_dense_nodes: 508\n",
      "activation: relu\n",
      "\n",
      "Train on 120 samples, validate on 30 samples\n",
      "Epoch 1/3\n",
      "120/120 [==============================] - 0s 1ms/step - loss: 1.2360 - acc: 0.3250 - val_loss: 1.1820 - val_acc: 0.2000\n",
      "Epoch 2/3\n",
      "120/120 [==============================] - 0s 25us/step - loss: 1.0566 - acc: 0.3667 - val_loss: 0.9676 - val_acc: 0.3000\n",
      "Epoch 3/3\n",
      "120/120 [==============================] - 0s 33us/step - loss: 0.9226 - acc: 0.4500 - val_loss: 0.8221 - val_acc: 0.5667\n",
      "\n",
      "Accuracy: 56.67%\n",
      "\n",
      "learning rate: 3.4e-04\n",
      "num_dense_layers: 5\n",
      "num_dense_nodes: 87\n",
      "activation: sigmoid\n",
      "\n",
      "Train on 120 samples, validate on 30 samples\n",
      "Epoch 1/3\n",
      "120/120 [==============================] - 0s 2ms/step - loss: 1.2047 - acc: 0.3667 - val_loss: 1.2345 - val_acc: 0.2000\n",
      "Epoch 2/3\n",
      "120/120 [==============================] - 0s 33us/step - loss: 1.1912 - acc: 0.3667 - val_loss: 1.2168 - val_acc: 0.2000\n",
      "Epoch 3/3\n",
      "120/120 [==============================] - 0s 42us/step - loss: 1.1766 - acc: 0.3667 - val_loss: 1.1994 - val_acc: 0.2000\n",
      "\n",
      "Accuracy: 20.00%\n",
      "\n",
      "learning rate: 1.6e-03\n",
      "num_dense_layers: 4\n",
      "num_dense_nodes: 473\n",
      "activation: sigmoid\n",
      "\n",
      "Train on 120 samples, validate on 30 samples\n",
      "Epoch 1/3\n",
      "120/120 [==============================] - 0s 1ms/step - loss: 1.1594 - acc: 0.3667 - val_loss: 1.5037 - val_acc: 0.3667\n"
     ]
    },
    {
     "name": "stdout",
     "output_type": "stream",
     "text": [
      "Epoch 2/3\n",
      "120/120 [==============================] - 0s 33us/step - loss: 1.6802 - acc: 0.3250 - val_loss: 1.0597 - val_acc: 0.4333\n",
      "Epoch 3/3\n",
      "120/120 [==============================] - 0s 33us/step - loss: 1.2348 - acc: 0.3083 - val_loss: 1.2606 - val_acc: 0.2000\n",
      "\n",
      "Accuracy: 20.00%\n",
      "\n",
      "learning rate: 7.5e-04\n",
      "num_dense_layers: 5\n",
      "num_dense_nodes: 175\n",
      "activation: relu\n",
      "\n",
      "Train on 120 samples, validate on 30 samples\n",
      "Epoch 1/3\n",
      "120/120 [==============================] - 0s 2ms/step - loss: 1.1389 - acc: 0.3083 - val_loss: 1.0756 - val_acc: 0.2000\n",
      "Epoch 2/3\n",
      "120/120 [==============================] - 0s 33us/step - loss: 1.0508 - acc: 0.3667 - val_loss: 1.0689 - val_acc: 0.2000\n",
      "Epoch 3/3\n",
      "120/120 [==============================] - 0s 42us/step - loss: 0.9979 - acc: 0.3667 - val_loss: 1.0494 - val_acc: 0.2333\n",
      "\n",
      "Accuracy: 23.33%\n",
      "\n",
      "learning rate: 5.8e-03\n",
      "num_dense_layers: 4\n",
      "num_dense_nodes: 17\n",
      "activation: relu\n",
      "\n",
      "Train on 120 samples, validate on 30 samples\n",
      "Epoch 1/3\n",
      "120/120 [==============================] - 0s 1ms/step - loss: 1.0883 - acc: 0.3333 - val_loss: 1.0610 - val_acc: 0.5667\n",
      "Epoch 2/3\n",
      "120/120 [==============================] - 0s 33us/step - loss: 1.0116 - acc: 0.6917 - val_loss: 1.0582 - val_acc: 0.5667\n",
      "Epoch 3/3\n",
      "120/120 [==============================] - 0s 42us/step - loss: 0.9689 - acc: 0.6917 - val_loss: 1.0573 - val_acc: 0.5000\n",
      "\n",
      "Accuracy: 50.00%\n",
      "\n",
      "learning rate: 2.7e-04\n",
      "num_dense_layers: 1\n",
      "num_dense_nodes: 19\n",
      "activation: relu\n",
      "\n",
      "Train on 120 samples, validate on 30 samples\n",
      "Epoch 1/3\n",
      "120/120 [==============================] - 0s 969us/step - loss: 2.5684 - acc: 0.3083 - val_loss: 1.7522 - val_acc: 0.4333\n",
      "Epoch 2/3\n",
      "120/120 [==============================] - 0s 25us/step - loss: 2.5611 - acc: 0.3083 - val_loss: 1.7474 - val_acc: 0.4333\n",
      "Epoch 3/3\n",
      "120/120 [==============================] - 0s 46us/step - loss: 2.5527 - acc: 0.3083 - val_loss: 1.7423 - val_acc: 0.4333\n",
      "\n",
      "Accuracy: 43.33%\n",
      "\n",
      "learning rate: 5.0e-01\n",
      "num_dense_layers: 1\n",
      "num_dense_nodes: 382\n",
      "activation: relu\n",
      "\n",
      "Train on 120 samples, validate on 30 samples\n",
      "Epoch 1/3\n",
      "120/120 [==============================] - 0s 1ms/step - loss: 1.1214 - acc: 0.3250 - val_loss: 12.8945 - val_acc: 0.2000\n",
      "Epoch 2/3\n",
      "120/120 [==============================] - 0s 42us/step - loss: 10.2081 - acc: 0.3667 - val_loss: 12.8945 - val_acc: 0.2000\n",
      "Epoch 3/3\n",
      "120/120 [==============================] - 0s 42us/step - loss: 10.2081 - acc: 0.3667 - val_loss: 12.8945 - val_acc: 0.2000\n",
      "\n",
      "Accuracy: 20.00%\n",
      "\n",
      "learning rate: 8.5e-05\n",
      "num_dense_layers: 4\n",
      "num_dense_nodes: 296\n",
      "activation: relu\n",
      "\n",
      "Train on 120 samples, validate on 30 samples\n",
      "Epoch 1/3\n",
      "120/120 [==============================] - 0s 2ms/step - loss: 1.0877 - acc: 0.3083 - val_loss: 1.0751 - val_acc: 0.4333\n",
      "Epoch 2/3\n",
      "120/120 [==============================] - 0s 42us/step - loss: 1.0702 - acc: 0.3083 - val_loss: 1.0677 - val_acc: 0.5333\n",
      "Epoch 3/3\n",
      "120/120 [==============================] - 0s 33us/step - loss: 1.0513 - acc: 0.6083 - val_loss: 1.0609 - val_acc: 0.2000\n",
      "\n",
      "Accuracy: 20.00%\n",
      "\n",
      "learning rate: 4.8e-01\n",
      "num_dense_layers: 5\n",
      "num_dense_nodes: 27\n",
      "activation: sigmoid\n",
      "\n",
      "Train on 120 samples, validate on 30 samples\n",
      "Epoch 1/3\n",
      "120/120 [==============================] - 0s 2ms/step - loss: 1.2563 - acc: 0.3083 - val_loss: 5.5106 - val_acc: 0.2000\n",
      "Epoch 2/3\n",
      "120/120 [==============================] - 0s 33us/step - loss: 4.0751 - acc: 0.3667 - val_loss: 6.2356 - val_acc: 0.3667\n",
      "Epoch 3/3\n",
      "120/120 [==============================] - 0s 33us/step - loss: 5.6177 - acc: 0.3250 - val_loss: 3.0254 - val_acc: 0.3667\n",
      "\n",
      "Accuracy: 36.67%\n",
      "\n",
      "learning rate: 5.0e-01\n",
      "num_dense_layers: 5\n",
      "num_dense_nodes: 256\n",
      "activation: relu\n",
      "\n",
      "Train on 120 samples, validate on 30 samples\n",
      "Epoch 1/3\n",
      "120/120 [==============================] - 0s 2ms/step - loss: 1.1216 - acc: 0.3083 - val_loss: 12.8945 - val_acc: 0.2000\n",
      "Epoch 2/3\n",
      "120/120 [==============================] - 0s 79us/step - loss: 10.2081 - acc: 0.3667 - val_loss: 12.8945 - val_acc: 0.2000\n",
      "Epoch 3/3\n",
      "120/120 [==============================] - 0s 38us/step - loss: 10.2081 - acc: 0.3667 - val_loss: 12.8945 - val_acc: 0.2000\n",
      "\n",
      "Accuracy: 20.00%\n",
      "\n",
      "learning rate: 1.0e-06\n",
      "num_dense_layers: 2\n",
      "num_dense_nodes: 188\n",
      "activation: relu\n",
      "\n",
      "Train on 120 samples, validate on 30 samples\n",
      "Epoch 1/3\n",
      "120/120 [==============================] - 0s 1ms/step - loss: 1.0883 - acc: 0.3667 - val_loss: 1.1711 - val_acc: 0.2000\n",
      "Epoch 2/3\n",
      "120/120 [==============================] - 0s 42us/step - loss: 1.0881 - acc: 0.3667 - val_loss: 1.1710 - val_acc: 0.2000\n",
      "Epoch 3/3\n",
      "120/120 [==============================] - 0s 54us/step - loss: 1.0880 - acc: 0.3667 - val_loss: 1.1709 - val_acc: 0.2000\n",
      "\n",
      "Accuracy: 20.00%\n",
      "\n",
      "learning rate: 9.2e-06\n",
      "num_dense_layers: 2\n",
      "num_dense_nodes: 236\n",
      "activation: sigmoid\n",
      "\n",
      "Train on 120 samples, validate on 30 samples\n",
      "Epoch 1/3\n",
      "120/120 [==============================] - 0s 1ms/step - loss: 1.2678 - acc: 0.3667 - val_loss: 1.4163 - val_acc: 0.2000\n",
      "Epoch 2/3\n",
      "120/120 [==============================] - 0s 26us/step - loss: 1.2664 - acc: 0.3667 - val_loss: 1.4138 - val_acc: 0.2000\n",
      "Epoch 3/3\n",
      "120/120 [==============================] - 0s 29us/step - loss: 1.2648 - acc: 0.3667 - val_loss: 1.4111 - val_acc: 0.2000\n",
      "\n",
      "Accuracy: 20.00%\n",
      "\n"
     ]
    }
   ],
   "source": [
    "search_result = gp_minimize(func=fitness,dimensions=dimensions,\n",
    "                            acq_func='EI', # Expected Improvement.\n",
    "                            n_calls=40,\n",
    "                            x0=default_parameters)"
   ]
  },
  {
   "cell_type": "code",
   "execution_count": 29,
   "metadata": {},
   "outputs": [
    {
     "data": {
      "text/plain": [
       "<matplotlib.axes._subplots.AxesSubplot at 0x2195cf28e80>"
      ]
     },
     "execution_count": 29,
     "metadata": {},
     "output_type": "execute_result"
    },
    {
     "data": {
      "image/png": "[encoded data removed]",
      "text/plain": [
       "<Figure size 432x288 with 1 Axes>"
      ]
     },
     "metadata": {},
     "output_type": "display_data"
    }
   ],
   "source": [
    "plot_convergence(search_result)"
   ]
  },
  {
   "cell_type": "markdown",
   "metadata": {},
   "source": [
    "This shows the best hyper-parameters found by the Bayesian optimiser"
   ]
  },
  {
   "cell_type": "code",
   "execution_count": 30,
   "metadata": {},
   "outputs": [
    {
     "data": {
      "text/plain": [
       "[1.9199332734788812e-05, 1, 325, 'relu']"
      ]
     },
     "execution_count": 30,
     "metadata": {},
     "output_type": "execute_result"
    }
   ],
   "source": [
    "search_result.x"
   ]
  },
  {
   "cell_type": "code",
   "execution_count": 31,
   "metadata": {},
   "outputs": [],
   "source": [
    "space = search_result.space"
   ]
  },
  {
   "cell_type": "markdown",
   "metadata": {},
   "source": [
    "This shows the fitness."
   ]
  },
  {
   "cell_type": "code",
   "execution_count": 41,
   "metadata": {},
   "outputs": [
    {
     "data": {
      "text/plain": [
       "-0.800000011920929"
      ]
     },
     "execution_count": 41,
     "metadata": {},
     "output_type": "execute_result"
    }
   ],
   "source": [
    "search_result.fun"
   ]
  },
  {
   "cell_type": "markdown",
   "metadata": {},
   "source": [
    "Here this shows all the hyper-parameters that the Bayesian optimiser tried and the fitness values associated."
   ]
  },
  {
   "cell_type": "code",
   "execution_count": 34,
   "metadata": {},
   "outputs": [
    {
     "data": {
      "text/plain": [
       "[(-0.4333333373069763, [6.4125805837816104e-06, 3, 152, 'sigmoid']),\n",
       " (-0.4333333373069763, [8.279434940844027e-06, 3, 493, 'sigmoid']),\n",
       " (-0.4333333373069763, [1.4630685746221431e-05, 3, 479, 'sigmoid']),\n",
       " (-0.4333333373069763, [1.9199332734788812e-05, 1, 325, 'relu']),\n",
       " (-0.4333333373069763, [0.0001523935561110325, 4, 24, 'sigmoid']),\n",
       " (-0.4333333373069763, [0.020510634365498173, 3, 31, 'sigmoid']),\n",
       " (-0.4333333373069763, [0.02367114794698, 3, 33, 'sigmoid']),\n",
       " (-0.4333333373069763, [0.11618709143341169, 3, 159, 'sigmoid']),\n",
       " (-0.4333333373069763, [0.4228568077575526, 3, 469, 'sigmoid']),\n",
       " (-0.36666667461395264, [1e-06, 3, 310, 'relu']),\n",
       " (-0.36666667461395264, [1.201614682077176e-06, 3, 451, 'sigmoid']),\n",
       " (-0.36666667461395264, [3.7261807340081385e-06, 1, 347, 'relu']),\n",
       " (-0.36666667461395264, [4.980720475620101e-06, 3, 182, 'sigmoid']),\n",
       " (-0.36666667461395264, [6.514815917748987e-06, 2, 429, 'sigmoid']),\n",
       " (-0.36666667461395264, [8.322373978088568e-06, 3, 485, 'sigmoid']),\n",
       " (-0.36666667461395264, [1.9071200675646274e-05, 2, 388, 'sigmoid']),\n",
       " (-0.36666667461395264, [4e-05, 1, 16, 'relu']),\n",
       " (-0.36666667461395264, [0.00012564642867747607, 3, 38, 'sigmoid']),\n",
       " (-0.36666667461395264, [0.0012697397224610517, 3, 4, 'sigmoid']),\n",
       " (-0.36666667461395264, [0.02203531054143821, 4, 76, 'relu']),\n",
       " (-0.36666667461395264, [0.0995499501171914, 3, 478, 'sigmoid']),\n",
       " (-0.36666667461395264, [0.16568766692776352, 3, 143, 'sigmoid']),\n",
       " (-0.30000001192092896, [0.0036817628193119797, 1, 304, 'relu']),\n",
       " (-0.20000000298023224, [1e-06, 3, 217, 'sigmoid']),\n",
       " (-0.20000000298023224, [1.238135150393544e-06, 5, 508, 'sigmoid']),\n",
       " (-0.20000000298023224, [2.0804794355379674e-06, 3, 164, 'sigmoid']),\n",
       " (-0.20000000298023224, [8.203619825765753e-06, 3, 511, 'sigmoid']),\n",
       " (-0.20000000298023224, [1.63024453463703e-05, 3, 487, 'sigmoid']),\n",
       " (-0.20000000298023224, [2.95340056187489e-05, 4, 22, 'sigmoid']),\n",
       " (-0.20000000298023224, [0.00027939405573098583, 4, 15, 'relu']),\n",
       " (-0.20000000298023224, [0.0003601900985097342, 1, 7, 'sigmoid']),\n",
       " (-0.20000000298023224, [0.010506121220619034, 4, 28, 'sigmoid']),\n",
       " (-0.20000000298023224, [0.039236260368811116, 3, 93, 'sigmoid']),\n",
       " (-0.20000000298023224, [0.05059560903236473, 2, 120, 'sigmoid']),\n",
       " (-0.20000000298023224, [0.13603365874183845, 2, 470, 'sigmoid']),\n",
       " (-0.20000000298023224, [0.3404531824472644, 1, 60, 'relu']),\n",
       " (-0.20000000298023224, [0.38548334274157, 4, 122, 'relu']),\n",
       " (-0.20000000298023224, [0.4027797755812408, 5, 508, 'relu']),\n",
       " (-0.20000000298023224, [0.48770653274292014, 5, 504, 'relu']),\n",
       " (-0.1666666716337204, [4.63833992356131e-05, 2, 467, 'relu'])]"
      ]
     },
     "execution_count": 34,
     "metadata": {},
     "output_type": "execute_result"
    }
   ],
   "source": [
    "sorted(zip(search_result.func_vals, search_result.x_iters))"
   ]
  },
  {
   "cell_type": "markdown",
   "metadata": {},
   "source": [
    "## Evaluation"
   ]
  },
  {
   "cell_type": "markdown",
   "metadata": {},
   "source": [
    "Running more iterations of the Bayesian optimiser will greatly increase your chances of getting a model however can be very taxing. After going through tests I only once got a model that had 100% accuracy. I would probably only recommend increasing the amount of iterations if you really need high accuracy or have really good processing power."
   ]
  },
  {
   "cell_type": "markdown",
   "metadata": {},
   "source": [
    "Hand tuning the amount of epochs increased the accuracy of existing models however became extremely costly when I tested it on other datasets specifically datasets with images. This is because iris dataset is really fast and quick to train with very few samples."
   ]
  },
  {
   "cell_type": "markdown",
   "metadata": {},
   "source": [
    "## Conclusion"
   ]
  },
  {
   "cell_type": "markdown",
   "metadata": {},
   "source": [
    "To conclude, on how to optimise neural networks with hyper-parameters. I found that using a Bayesian optimisation was an interesting yet effective way on improving hyper-parameters without having to do tune the parameters yourself. Compared to hand tuning this is by far a much more superiror way of finding hyper-parameters because it is nowhere near as time consuming and not relying on intuition. Also compared to a Grid search or Random Search it is by far less time consuming and will most likely find superior hyper-parameters."
   ]
  }
 ],
 "metadata": {
  "kernelspec": {
   "display_name": "Python 3",
   "language": "python",
   "name": "python3"
  },
  "language_info": {
   "codemirror_mode": {
    "name": "ipython",
    "version": 3
   },
   "file_extension": ".py",
   "mimetype": "text/x-python",
   "name": "python",
   "nbconvert_exporter": "python",
   "pygments_lexer": "ipython3",
   "version": "3.5.6"
  }
 },
 "nbformat": 4,
 "nbformat_minor": 2
}
